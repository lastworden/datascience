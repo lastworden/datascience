{
 "cells": [
  {
   "cell_type": "code",
   "execution_count": 1,
   "metadata": {
    "collapsed": true
   },
   "outputs": [],
   "source": [
    "import numpy as np\n",
    "import pandas as pd\n",
    "from pandas import Series, DataFrame"
   ]
  },
  {
   "cell_type": "code",
   "execution_count": 2,
   "metadata": {
    "collapsed": false
   },
   "outputs": [
    {
     "data": {
      "text/plain": [
       "True"
      ]
     },
     "execution_count": 2,
     "metadata": {},
     "output_type": "execute_result"
    }
   ],
   "source": [
    "import webbrowser\n",
    "website = 'http://en.wikipedia.org/wiki/NFL_win-loss_records'\n",
    "webbrowser.open(website)\n"
   ]
  },
  {
   "cell_type": "code",
   "execution_count": 3,
   "metadata": {
    "collapsed": true
   },
   "outputs": [],
   "source": [
    "nfl_frame = pd.read_clipboard()"
   ]
  },
  {
   "cell_type": "code",
   "execution_count": 4,
   "metadata": {
    "collapsed": false
   },
   "outputs": [
    {
     "data": {
      "text/html": [
       "<div style=\"max-height:1000px;max-width:1500px;overflow:auto;\">\n",
       "<table border=\"1\" class=\"dataframe\">\n",
       "  <thead>\n",
       "    <tr style=\"text-align: right;\">\n",
       "      <th></th>\n",
       "      <th>Rank </th>\n",
       "      <th>Team </th>\n",
       "      <th>Won </th>\n",
       "      <th>Lost </th>\n",
       "      <th>Tied* </th>\n",
       "      <th>Pct. </th>\n",
       "      <th>First Season </th>\n",
       "      <th>Total Games </th>\n",
       "      <th>Conference</th>\n",
       "    </tr>\n",
       "  </thead>\n",
       "  <tbody>\n",
       "    <tr>\n",
       "      <th>0</th>\n",
       "      <td> 1</td>\n",
       "      <td>      Dallas Cowboys </td>\n",
       "      <td> 511</td>\n",
       "      <td> 378</td>\n",
       "      <td>  6</td>\n",
       "      <td> 0.574</td>\n",
       "      <td> 1960</td>\n",
       "      <td>  894</td>\n",
       "      <td>  NFC East</td>\n",
       "    </tr>\n",
       "    <tr>\n",
       "      <th>1</th>\n",
       "      <td> 2</td>\n",
       "      <td>       Chicago Bears </td>\n",
       "      <td> 752</td>\n",
       "      <td> 563</td>\n",
       "      <td> 42</td>\n",
       "      <td> 0.570</td>\n",
       "      <td> 1920</td>\n",
       "      <td> 1357</td>\n",
       "      <td> NFC North</td>\n",
       "    </tr>\n",
       "    <tr>\n",
       "      <th>2</th>\n",
       "      <td> 3</td>\n",
       "      <td>   Green Bay Packers </td>\n",
       "      <td> 741</td>\n",
       "      <td> 561</td>\n",
       "      <td> 37</td>\n",
       "      <td> 0.567</td>\n",
       "      <td> 1921</td>\n",
       "      <td> 1339</td>\n",
       "      <td> NFC North</td>\n",
       "    </tr>\n",
       "    <tr>\n",
       "      <th>3</th>\n",
       "      <td> 4</td>\n",
       "      <td>      Miami Dolphins </td>\n",
       "      <td> 443</td>\n",
       "      <td> 345</td>\n",
       "      <td>  4</td>\n",
       "      <td> 0.562</td>\n",
       "      <td> 1966</td>\n",
       "      <td>  792</td>\n",
       "      <td>  AFC East</td>\n",
       "    </tr>\n",
       "    <tr>\n",
       "      <th>4</th>\n",
       "      <td> 5</td>\n",
       "      <td>    Baltimore Ravens </td>\n",
       "      <td> 182</td>\n",
       "      <td> 143</td>\n",
       "      <td>  1</td>\n",
       "      <td> 0.560</td>\n",
       "      <td> 1996</td>\n",
       "      <td>  326</td>\n",
       "      <td> AFC North</td>\n",
       "    </tr>\n",
       "    <tr>\n",
       "      <th>5</th>\n",
       "      <td> 6</td>\n",
       "      <td> San Francisco 49ers </td>\n",
       "      <td> 545</td>\n",
       "      <td> 444</td>\n",
       "      <td> 14</td>\n",
       "      <td> 0.550</td>\n",
       "      <td> 1950</td>\n",
       "      <td> 1003</td>\n",
       "      <td> NFC Weast</td>\n",
       "    </tr>\n",
       "  </tbody>\n",
       "</table>\n",
       "</div>"
      ],
      "text/plain": [
       "   Rank                  Team   Won   Lost   Tied*   Pct.   First Season   \\\n",
       "0      1       Dallas Cowboys    511    378       6  0.574           1960   \n",
       "1      2        Chicago Bears    752    563      42  0.570           1920   \n",
       "2      3    Green Bay Packers    741    561      37  0.567           1921   \n",
       "3      4       Miami Dolphins    443    345       4  0.562           1966   \n",
       "4      5     Baltimore Ravens    182    143       1  0.560           1996   \n",
       "5      6  San Francisco 49ers    545    444      14  0.550           1950   \n",
       "\n",
       "   Total Games  Conference  \n",
       "0           894   NFC East  \n",
       "1          1357  NFC North  \n",
       "2          1339  NFC North  \n",
       "3           792   AFC East  \n",
       "4           326  AFC North  \n",
       "5          1003  NFC Weast  "
      ]
     },
     "execution_count": 4,
     "metadata": {},
     "output_type": "execute_result"
    }
   ],
   "source": [
    "nfl_frame"
   ]
  },
  {
   "cell_type": "code",
   "execution_count": 7,
   "metadata": {
    "collapsed": false
   },
   "outputs": [
    {
     "data": {
      "text/plain": [
       "Index(['Rank ', 'Team ', 'Won ', 'Lost ', 'Tied* ', 'Pct. ', 'First Season ', 'Total Games ', 'Conference'], dtype='object')"
      ]
     },
     "execution_count": 7,
     "metadata": {},
     "output_type": "execute_result"
    }
   ],
   "source": [
    "nfl_frame.columns"
   ]
  },
  {
   "cell_type": "code",
   "execution_count": 14,
   "metadata": {
    "collapsed": false
   },
   "outputs": [
    {
     "data": {
      "text/plain": [
       "0     NFC East\n",
       "1    NFC North\n",
       "2    NFC North\n",
       "3     AFC East\n",
       "4    AFC North\n",
       "5    NFC Weast\n",
       "Name: Conference, dtype: object"
      ]
     },
     "execution_count": 14,
     "metadata": {},
     "output_type": "execute_result"
    }
   ],
   "source": [
    "nfl_frame.Conference"
   ]
  },
  {
   "cell_type": "code",
   "execution_count": 18,
   "metadata": {
    "collapsed": false
   },
   "outputs": [
    {
     "data": {
      "text/plain": [
       "0         Dallas Cowboys \n",
       "1          Chicago Bears \n",
       "2      Green Bay Packers \n",
       "3         Miami Dolphins \n",
       "4       Baltimore Ravens \n",
       "5    San Francisco 49ers \n",
       "Name: Team , dtype: object"
      ]
     },
     "execution_count": 18,
     "metadata": {},
     "output_type": "execute_result"
    }
   ],
   "source": [
    "nfl_frame['Team ']"
   ]
  },
  {
   "cell_type": "code",
   "execution_count": 20,
   "metadata": {
    "collapsed": false
   },
   "outputs": [
    {
     "data": {
      "text/html": [
       "<div style=\"max-height:1000px;max-width:1500px;overflow:auto;\">\n",
       "<table border=\"1\" class=\"dataframe\">\n",
       "  <thead>\n",
       "    <tr style=\"text-align: right;\">\n",
       "      <th></th>\n",
       "      <th>Team </th>\n",
       "      <th>Won </th>\n",
       "      <th>Lost </th>\n",
       "      <th>Tied* </th>\n",
       "    </tr>\n",
       "  </thead>\n",
       "  <tbody>\n",
       "    <tr>\n",
       "      <th>0</th>\n",
       "      <td>      Dallas Cowboys </td>\n",
       "      <td> 511</td>\n",
       "      <td> 378</td>\n",
       "      <td>  6</td>\n",
       "    </tr>\n",
       "    <tr>\n",
       "      <th>1</th>\n",
       "      <td>       Chicago Bears </td>\n",
       "      <td> 752</td>\n",
       "      <td> 563</td>\n",
       "      <td> 42</td>\n",
       "    </tr>\n",
       "    <tr>\n",
       "      <th>2</th>\n",
       "      <td>   Green Bay Packers </td>\n",
       "      <td> 741</td>\n",
       "      <td> 561</td>\n",
       "      <td> 37</td>\n",
       "    </tr>\n",
       "    <tr>\n",
       "      <th>3</th>\n",
       "      <td>      Miami Dolphins </td>\n",
       "      <td> 443</td>\n",
       "      <td> 345</td>\n",
       "      <td>  4</td>\n",
       "    </tr>\n",
       "    <tr>\n",
       "      <th>4</th>\n",
       "      <td>    Baltimore Ravens </td>\n",
       "      <td> 182</td>\n",
       "      <td> 143</td>\n",
       "      <td>  1</td>\n",
       "    </tr>\n",
       "    <tr>\n",
       "      <th>5</th>\n",
       "      <td> San Francisco 49ers </td>\n",
       "      <td> 545</td>\n",
       "      <td> 444</td>\n",
       "      <td> 14</td>\n",
       "    </tr>\n",
       "  </tbody>\n",
       "</table>\n",
       "</div>"
      ],
      "text/plain": [
       "                  Team   Won   Lost   Tied* \n",
       "0       Dallas Cowboys    511    378       6\n",
       "1        Chicago Bears    752    563      42\n",
       "2    Green Bay Packers    741    561      37\n",
       "3       Miami Dolphins    443    345       4\n",
       "4     Baltimore Ravens    182    143       1\n",
       "5  San Francisco 49ers    545    444      14"
      ]
     },
     "execution_count": 20,
     "metadata": {},
     "output_type": "execute_result"
    }
   ],
   "source": [
    "DataFrame(nfl_frame,columns = [ 'Team ', 'Won ', 'Lost ', 'Tied* '])"
   ]
  },
  {
   "cell_type": "code",
   "execution_count": 22,
   "metadata": {
    "collapsed": false
   },
   "outputs": [
    {
     "data": {
      "text/html": [
       "<div style=\"max-height:1000px;max-width:1500px;overflow:auto;\">\n",
       "<table border=\"1\" class=\"dataframe\">\n",
       "  <thead>\n",
       "    <tr style=\"text-align: right;\">\n",
       "      <th></th>\n",
       "      <th>Team </th>\n",
       "      <th>Won </th>\n",
       "      <th>Lost </th>\n",
       "      <th>Tied* </th>\n",
       "      <th>Stadium</th>\n",
       "    </tr>\n",
       "  </thead>\n",
       "  <tbody>\n",
       "    <tr>\n",
       "      <th>0</th>\n",
       "      <td>      Dallas Cowboys </td>\n",
       "      <td> 511</td>\n",
       "      <td> 378</td>\n",
       "      <td>  6</td>\n",
       "      <td>NaN</td>\n",
       "    </tr>\n",
       "    <tr>\n",
       "      <th>1</th>\n",
       "      <td>       Chicago Bears </td>\n",
       "      <td> 752</td>\n",
       "      <td> 563</td>\n",
       "      <td> 42</td>\n",
       "      <td>NaN</td>\n",
       "    </tr>\n",
       "    <tr>\n",
       "      <th>2</th>\n",
       "      <td>   Green Bay Packers </td>\n",
       "      <td> 741</td>\n",
       "      <td> 561</td>\n",
       "      <td> 37</td>\n",
       "      <td>NaN</td>\n",
       "    </tr>\n",
       "    <tr>\n",
       "      <th>3</th>\n",
       "      <td>      Miami Dolphins </td>\n",
       "      <td> 443</td>\n",
       "      <td> 345</td>\n",
       "      <td>  4</td>\n",
       "      <td>NaN</td>\n",
       "    </tr>\n",
       "    <tr>\n",
       "      <th>4</th>\n",
       "      <td>    Baltimore Ravens </td>\n",
       "      <td> 182</td>\n",
       "      <td> 143</td>\n",
       "      <td>  1</td>\n",
       "      <td>NaN</td>\n",
       "    </tr>\n",
       "    <tr>\n",
       "      <th>5</th>\n",
       "      <td> San Francisco 49ers </td>\n",
       "      <td> 545</td>\n",
       "      <td> 444</td>\n",
       "      <td> 14</td>\n",
       "      <td>NaN</td>\n",
       "    </tr>\n",
       "  </tbody>\n",
       "</table>\n",
       "</div>"
      ],
      "text/plain": [
       "                  Team   Won   Lost   Tied*   Stadium\n",
       "0       Dallas Cowboys    511    378       6      NaN\n",
       "1        Chicago Bears    752    563      42      NaN\n",
       "2    Green Bay Packers    741    561      37      NaN\n",
       "3       Miami Dolphins    443    345       4      NaN\n",
       "4     Baltimore Ravens    182    143       1      NaN\n",
       "5  San Francisco 49ers    545    444      14      NaN"
      ]
     },
     "execution_count": 22,
     "metadata": {},
     "output_type": "execute_result"
    }
   ],
   "source": [
    "DataFrame(nfl_frame,columns = [ 'Team ', 'Won ', 'Lost ', 'Tied* ','Stadium'])"
   ]
  },
  {
   "cell_type": "code",
   "execution_count": 24,
   "metadata": {
    "collapsed": false
   },
   "outputs": [
    {
     "data": {
      "text/html": [
       "<div style=\"max-height:1000px;max-width:1500px;overflow:auto;\">\n",
       "<table border=\"1\" class=\"dataframe\">\n",
       "  <thead>\n",
       "    <tr style=\"text-align: right;\">\n",
       "      <th></th>\n",
       "      <th>Rank </th>\n",
       "      <th>Team </th>\n",
       "      <th>Won </th>\n",
       "      <th>Lost </th>\n",
       "      <th>Tied* </th>\n",
       "      <th>Pct. </th>\n",
       "      <th>First Season </th>\n",
       "      <th>Total Games </th>\n",
       "      <th>Conference</th>\n",
       "    </tr>\n",
       "  </thead>\n",
       "  <tbody>\n",
       "    <tr>\n",
       "      <th>0</th>\n",
       "      <td> 1</td>\n",
       "      <td>    Dallas Cowboys </td>\n",
       "      <td> 511</td>\n",
       "      <td> 378</td>\n",
       "      <td>  6</td>\n",
       "      <td> 0.574</td>\n",
       "      <td> 1960</td>\n",
       "      <td>  894</td>\n",
       "      <td>  NFC East</td>\n",
       "    </tr>\n",
       "    <tr>\n",
       "      <th>1</th>\n",
       "      <td> 2</td>\n",
       "      <td>     Chicago Bears </td>\n",
       "      <td> 752</td>\n",
       "      <td> 563</td>\n",
       "      <td> 42</td>\n",
       "      <td> 0.570</td>\n",
       "      <td> 1920</td>\n",
       "      <td> 1357</td>\n",
       "      <td> NFC North</td>\n",
       "    </tr>\n",
       "    <tr>\n",
       "      <th>2</th>\n",
       "      <td> 3</td>\n",
       "      <td> Green Bay Packers </td>\n",
       "      <td> 741</td>\n",
       "      <td> 561</td>\n",
       "      <td> 37</td>\n",
       "      <td> 0.567</td>\n",
       "      <td> 1921</td>\n",
       "      <td> 1339</td>\n",
       "      <td> NFC North</td>\n",
       "    </tr>\n",
       "  </tbody>\n",
       "</table>\n",
       "</div>"
      ],
      "text/plain": [
       "   Rank                Team   Won   Lost   Tied*   Pct.   First Season   \\\n",
       "0      1     Dallas Cowboys    511    378       6  0.574           1960   \n",
       "1      2      Chicago Bears    752    563      42  0.570           1920   \n",
       "2      3  Green Bay Packers    741    561      37  0.567           1921   \n",
       "\n",
       "   Total Games  Conference  \n",
       "0           894   NFC East  \n",
       "1          1357  NFC North  \n",
       "2          1339  NFC North  "
      ]
     },
     "execution_count": 24,
     "metadata": {},
     "output_type": "execute_result"
    }
   ],
   "source": [
    "nfl_frame.head(3)"
   ]
  },
  {
   "cell_type": "code",
   "execution_count": 25,
   "metadata": {
    "collapsed": false
   },
   "outputs": [
    {
     "data": {
      "text/html": [
       "<div style=\"max-height:1000px;max-width:1500px;overflow:auto;\">\n",
       "<table border=\"1\" class=\"dataframe\">\n",
       "  <thead>\n",
       "    <tr style=\"text-align: right;\">\n",
       "      <th></th>\n",
       "      <th>Rank </th>\n",
       "      <th>Team </th>\n",
       "      <th>Won </th>\n",
       "      <th>Lost </th>\n",
       "      <th>Tied* </th>\n",
       "      <th>Pct. </th>\n",
       "      <th>First Season </th>\n",
       "      <th>Total Games </th>\n",
       "      <th>Conference</th>\n",
       "    </tr>\n",
       "  </thead>\n",
       "  <tbody>\n",
       "    <tr>\n",
       "      <th>4</th>\n",
       "      <td> 5</td>\n",
       "      <td>    Baltimore Ravens </td>\n",
       "      <td> 182</td>\n",
       "      <td> 143</td>\n",
       "      <td>  1</td>\n",
       "      <td> 0.56</td>\n",
       "      <td> 1996</td>\n",
       "      <td>  326</td>\n",
       "      <td> AFC North</td>\n",
       "    </tr>\n",
       "    <tr>\n",
       "      <th>5</th>\n",
       "      <td> 6</td>\n",
       "      <td> San Francisco 49ers </td>\n",
       "      <td> 545</td>\n",
       "      <td> 444</td>\n",
       "      <td> 14</td>\n",
       "      <td> 0.55</td>\n",
       "      <td> 1950</td>\n",
       "      <td> 1003</td>\n",
       "      <td> NFC Weast</td>\n",
       "    </tr>\n",
       "  </tbody>\n",
       "</table>\n",
       "</div>"
      ],
      "text/plain": [
       "   Rank                  Team   Won   Lost   Tied*   Pct.   First Season   \\\n",
       "4      5     Baltimore Ravens    182    143       1   0.56           1996   \n",
       "5      6  San Francisco 49ers    545    444      14   0.55           1950   \n",
       "\n",
       "   Total Games  Conference  \n",
       "4           326  AFC North  \n",
       "5          1003  NFC Weast  "
      ]
     },
     "execution_count": 25,
     "metadata": {},
     "output_type": "execute_result"
    }
   ],
   "source": [
    "nfl_frame.tail(2)"
   ]
  },
  {
   "cell_type": "code",
   "execution_count": 28,
   "metadata": {
    "collapsed": false
   },
   "outputs": [
    {
     "data": {
      "text/plain": [
       "Rank                          2\n",
       "Team             Chicago Bears \n",
       "Won                         752\n",
       "Lost                        563\n",
       "Tied*                        42\n",
       "Pct.                       0.57\n",
       "First Season               1920\n",
       "Total Games                1357\n",
       "Conference            NFC North\n",
       "Name: 1, dtype: object"
      ]
     },
     "execution_count": 28,
     "metadata": {},
     "output_type": "execute_result"
    }
   ],
   "source": [
    "nfl_frame.ix[1]"
   ]
  },
  {
   "cell_type": "code",
   "execution_count": 29,
   "metadata": {
    "collapsed": false
   },
   "outputs": [
    {
     "data": {
      "text/html": [
       "<div style=\"max-height:1000px;max-width:1500px;overflow:auto;\">\n",
       "<table border=\"1\" class=\"dataframe\">\n",
       "  <thead>\n",
       "    <tr style=\"text-align: right;\">\n",
       "      <th></th>\n",
       "      <th>Rank </th>\n",
       "      <th>Team </th>\n",
       "      <th>Won </th>\n",
       "      <th>Lost </th>\n",
       "      <th>Tied* </th>\n",
       "      <th>Pct. </th>\n",
       "      <th>First Season </th>\n",
       "      <th>Total Games </th>\n",
       "      <th>Conference</th>\n",
       "    </tr>\n",
       "  </thead>\n",
       "  <tbody>\n",
       "    <tr>\n",
       "      <th>0</th>\n",
       "      <td> 1</td>\n",
       "      <td>      Dallas Cowboys </td>\n",
       "      <td> 511</td>\n",
       "      <td> 378</td>\n",
       "      <td>  6</td>\n",
       "      <td> 0.574</td>\n",
       "      <td> 1960</td>\n",
       "      <td>  894</td>\n",
       "      <td>  NFC East</td>\n",
       "    </tr>\n",
       "    <tr>\n",
       "      <th>1</th>\n",
       "      <td> 2</td>\n",
       "      <td>       Chicago Bears </td>\n",
       "      <td> 752</td>\n",
       "      <td> 563</td>\n",
       "      <td> 42</td>\n",
       "      <td> 0.570</td>\n",
       "      <td> 1920</td>\n",
       "      <td> 1357</td>\n",
       "      <td> NFC North</td>\n",
       "    </tr>\n",
       "    <tr>\n",
       "      <th>2</th>\n",
       "      <td> 3</td>\n",
       "      <td>   Green Bay Packers </td>\n",
       "      <td> 741</td>\n",
       "      <td> 561</td>\n",
       "      <td> 37</td>\n",
       "      <td> 0.567</td>\n",
       "      <td> 1921</td>\n",
       "      <td> 1339</td>\n",
       "      <td> NFC North</td>\n",
       "    </tr>\n",
       "    <tr>\n",
       "      <th>3</th>\n",
       "      <td> 4</td>\n",
       "      <td>      Miami Dolphins </td>\n",
       "      <td> 443</td>\n",
       "      <td> 345</td>\n",
       "      <td>  4</td>\n",
       "      <td> 0.562</td>\n",
       "      <td> 1966</td>\n",
       "      <td>  792</td>\n",
       "      <td>  AFC East</td>\n",
       "    </tr>\n",
       "    <tr>\n",
       "      <th>4</th>\n",
       "      <td> 5</td>\n",
       "      <td>    Baltimore Ravens </td>\n",
       "      <td> 182</td>\n",
       "      <td> 143</td>\n",
       "      <td>  1</td>\n",
       "      <td> 0.560</td>\n",
       "      <td> 1996</td>\n",
       "      <td>  326</td>\n",
       "      <td> AFC North</td>\n",
       "    </tr>\n",
       "    <tr>\n",
       "      <th>5</th>\n",
       "      <td> 6</td>\n",
       "      <td> San Francisco 49ers </td>\n",
       "      <td> 545</td>\n",
       "      <td> 444</td>\n",
       "      <td> 14</td>\n",
       "      <td> 0.550</td>\n",
       "      <td> 1950</td>\n",
       "      <td> 1003</td>\n",
       "      <td> NFC Weast</td>\n",
       "    </tr>\n",
       "  </tbody>\n",
       "</table>\n",
       "</div>"
      ],
      "text/plain": [
       "   Rank                  Team   Won   Lost   Tied*   Pct.   First Season   \\\n",
       "0      1       Dallas Cowboys    511    378       6  0.574           1960   \n",
       "1      2        Chicago Bears    752    563      42  0.570           1920   \n",
       "2      3    Green Bay Packers    741    561      37  0.567           1921   \n",
       "3      4       Miami Dolphins    443    345       4  0.562           1966   \n",
       "4      5     Baltimore Ravens    182    143       1  0.560           1996   \n",
       "5      6  San Francisco 49ers    545    444      14  0.550           1950   \n",
       "\n",
       "   Total Games  Conference  \n",
       "0           894   NFC East  \n",
       "1          1357  NFC North  \n",
       "2          1339  NFC North  \n",
       "3           792   AFC East  \n",
       "4           326  AFC North  \n",
       "5          1003  NFC Weast  "
      ]
     },
     "execution_count": 29,
     "metadata": {},
     "output_type": "execute_result"
    }
   ],
   "source": [
    "nfl_frame"
   ]
  },
  {
   "cell_type": "code",
   "execution_count": 30,
   "metadata": {
    "collapsed": true
   },
   "outputs": [],
   "source": [
    "nfl_frame['Stadium'] = \"Levi's Stadium\""
   ]
  },
  {
   "cell_type": "code",
   "execution_count": 31,
   "metadata": {
    "collapsed": false
   },
   "outputs": [
    {
     "data": {
      "text/html": [
       "<div style=\"max-height:1000px;max-width:1500px;overflow:auto;\">\n",
       "<table border=\"1\" class=\"dataframe\">\n",
       "  <thead>\n",
       "    <tr style=\"text-align: right;\">\n",
       "      <th></th>\n",
       "      <th>Rank </th>\n",
       "      <th>Team </th>\n",
       "      <th>Won </th>\n",
       "      <th>Lost </th>\n",
       "      <th>Tied* </th>\n",
       "      <th>Pct. </th>\n",
       "      <th>First Season </th>\n",
       "      <th>Total Games </th>\n",
       "      <th>Conference</th>\n",
       "      <th>Stadium</th>\n",
       "    </tr>\n",
       "  </thead>\n",
       "  <tbody>\n",
       "    <tr>\n",
       "      <th>0</th>\n",
       "      <td> 1</td>\n",
       "      <td>      Dallas Cowboys </td>\n",
       "      <td> 511</td>\n",
       "      <td> 378</td>\n",
       "      <td>  6</td>\n",
       "      <td> 0.574</td>\n",
       "      <td> 1960</td>\n",
       "      <td>  894</td>\n",
       "      <td>  NFC East</td>\n",
       "      <td> Levi's Stadium</td>\n",
       "    </tr>\n",
       "    <tr>\n",
       "      <th>1</th>\n",
       "      <td> 2</td>\n",
       "      <td>       Chicago Bears </td>\n",
       "      <td> 752</td>\n",
       "      <td> 563</td>\n",
       "      <td> 42</td>\n",
       "      <td> 0.570</td>\n",
       "      <td> 1920</td>\n",
       "      <td> 1357</td>\n",
       "      <td> NFC North</td>\n",
       "      <td> Levi's Stadium</td>\n",
       "    </tr>\n",
       "    <tr>\n",
       "      <th>2</th>\n",
       "      <td> 3</td>\n",
       "      <td>   Green Bay Packers </td>\n",
       "      <td> 741</td>\n",
       "      <td> 561</td>\n",
       "      <td> 37</td>\n",
       "      <td> 0.567</td>\n",
       "      <td> 1921</td>\n",
       "      <td> 1339</td>\n",
       "      <td> NFC North</td>\n",
       "      <td> Levi's Stadium</td>\n",
       "    </tr>\n",
       "    <tr>\n",
       "      <th>3</th>\n",
       "      <td> 4</td>\n",
       "      <td>      Miami Dolphins </td>\n",
       "      <td> 443</td>\n",
       "      <td> 345</td>\n",
       "      <td>  4</td>\n",
       "      <td> 0.562</td>\n",
       "      <td> 1966</td>\n",
       "      <td>  792</td>\n",
       "      <td>  AFC East</td>\n",
       "      <td> Levi's Stadium</td>\n",
       "    </tr>\n",
       "    <tr>\n",
       "      <th>4</th>\n",
       "      <td> 5</td>\n",
       "      <td>    Baltimore Ravens </td>\n",
       "      <td> 182</td>\n",
       "      <td> 143</td>\n",
       "      <td>  1</td>\n",
       "      <td> 0.560</td>\n",
       "      <td> 1996</td>\n",
       "      <td>  326</td>\n",
       "      <td> AFC North</td>\n",
       "      <td> Levi's Stadium</td>\n",
       "    </tr>\n",
       "    <tr>\n",
       "      <th>5</th>\n",
       "      <td> 6</td>\n",
       "      <td> San Francisco 49ers </td>\n",
       "      <td> 545</td>\n",
       "      <td> 444</td>\n",
       "      <td> 14</td>\n",
       "      <td> 0.550</td>\n",
       "      <td> 1950</td>\n",
       "      <td> 1003</td>\n",
       "      <td> NFC Weast</td>\n",
       "      <td> Levi's Stadium</td>\n",
       "    </tr>\n",
       "  </tbody>\n",
       "</table>\n",
       "</div>"
      ],
      "text/plain": [
       "   Rank                  Team   Won   Lost   Tied*   Pct.   First Season   \\\n",
       "0      1       Dallas Cowboys    511    378       6  0.574           1960   \n",
       "1      2        Chicago Bears    752    563      42  0.570           1920   \n",
       "2      3    Green Bay Packers    741    561      37  0.567           1921   \n",
       "3      4       Miami Dolphins    443    345       4  0.562           1966   \n",
       "4      5     Baltimore Ravens    182    143       1  0.560           1996   \n",
       "5      6  San Francisco 49ers    545    444      14  0.550           1950   \n",
       "\n",
       "   Total Games  Conference         Stadium  \n",
       "0           894   NFC East  Levi's Stadium  \n",
       "1          1357  NFC North  Levi's Stadium  \n",
       "2          1339  NFC North  Levi's Stadium  \n",
       "3           792   AFC East  Levi's Stadium  \n",
       "4           326  AFC North  Levi's Stadium  \n",
       "5          1003  NFC Weast  Levi's Stadium  "
      ]
     },
     "execution_count": 31,
     "metadata": {},
     "output_type": "execute_result"
    }
   ],
   "source": [
    "nfl_frame\n"
   ]
  },
  {
   "cell_type": "code",
   "execution_count": 32,
   "metadata": {
    "collapsed": true
   },
   "outputs": [],
   "source": [
    "nfl_frame['Stadium'] = np.arange(6)"
   ]
  },
  {
   "cell_type": "code",
   "execution_count": 33,
   "metadata": {
    "collapsed": false
   },
   "outputs": [
    {
     "data": {
      "text/html": [
       "<div style=\"max-height:1000px;max-width:1500px;overflow:auto;\">\n",
       "<table border=\"1\" class=\"dataframe\">\n",
       "  <thead>\n",
       "    <tr style=\"text-align: right;\">\n",
       "      <th></th>\n",
       "      <th>Rank </th>\n",
       "      <th>Team </th>\n",
       "      <th>Won </th>\n",
       "      <th>Lost </th>\n",
       "      <th>Tied* </th>\n",
       "      <th>Pct. </th>\n",
       "      <th>First Season </th>\n",
       "      <th>Total Games </th>\n",
       "      <th>Conference</th>\n",
       "      <th>Stadium</th>\n",
       "    </tr>\n",
       "  </thead>\n",
       "  <tbody>\n",
       "    <tr>\n",
       "      <th>0</th>\n",
       "      <td> 1</td>\n",
       "      <td>      Dallas Cowboys </td>\n",
       "      <td> 511</td>\n",
       "      <td> 378</td>\n",
       "      <td>  6</td>\n",
       "      <td> 0.574</td>\n",
       "      <td> 1960</td>\n",
       "      <td>  894</td>\n",
       "      <td>  NFC East</td>\n",
       "      <td> 0</td>\n",
       "    </tr>\n",
       "    <tr>\n",
       "      <th>1</th>\n",
       "      <td> 2</td>\n",
       "      <td>       Chicago Bears </td>\n",
       "      <td> 752</td>\n",
       "      <td> 563</td>\n",
       "      <td> 42</td>\n",
       "      <td> 0.570</td>\n",
       "      <td> 1920</td>\n",
       "      <td> 1357</td>\n",
       "      <td> NFC North</td>\n",
       "      <td> 1</td>\n",
       "    </tr>\n",
       "    <tr>\n",
       "      <th>2</th>\n",
       "      <td> 3</td>\n",
       "      <td>   Green Bay Packers </td>\n",
       "      <td> 741</td>\n",
       "      <td> 561</td>\n",
       "      <td> 37</td>\n",
       "      <td> 0.567</td>\n",
       "      <td> 1921</td>\n",
       "      <td> 1339</td>\n",
       "      <td> NFC North</td>\n",
       "      <td> 2</td>\n",
       "    </tr>\n",
       "    <tr>\n",
       "      <th>3</th>\n",
       "      <td> 4</td>\n",
       "      <td>      Miami Dolphins </td>\n",
       "      <td> 443</td>\n",
       "      <td> 345</td>\n",
       "      <td>  4</td>\n",
       "      <td> 0.562</td>\n",
       "      <td> 1966</td>\n",
       "      <td>  792</td>\n",
       "      <td>  AFC East</td>\n",
       "      <td> 3</td>\n",
       "    </tr>\n",
       "    <tr>\n",
       "      <th>4</th>\n",
       "      <td> 5</td>\n",
       "      <td>    Baltimore Ravens </td>\n",
       "      <td> 182</td>\n",
       "      <td> 143</td>\n",
       "      <td>  1</td>\n",
       "      <td> 0.560</td>\n",
       "      <td> 1996</td>\n",
       "      <td>  326</td>\n",
       "      <td> AFC North</td>\n",
       "      <td> 4</td>\n",
       "    </tr>\n",
       "    <tr>\n",
       "      <th>5</th>\n",
       "      <td> 6</td>\n",
       "      <td> San Francisco 49ers </td>\n",
       "      <td> 545</td>\n",
       "      <td> 444</td>\n",
       "      <td> 14</td>\n",
       "      <td> 0.550</td>\n",
       "      <td> 1950</td>\n",
       "      <td> 1003</td>\n",
       "      <td> NFC Weast</td>\n",
       "      <td> 5</td>\n",
       "    </tr>\n",
       "  </tbody>\n",
       "</table>\n",
       "</div>"
      ],
      "text/plain": [
       "   Rank                  Team   Won   Lost   Tied*   Pct.   First Season   \\\n",
       "0      1       Dallas Cowboys    511    378       6  0.574           1960   \n",
       "1      2        Chicago Bears    752    563      42  0.570           1920   \n",
       "2      3    Green Bay Packers    741    561      37  0.567           1921   \n",
       "3      4       Miami Dolphins    443    345       4  0.562           1966   \n",
       "4      5     Baltimore Ravens    182    143       1  0.560           1996   \n",
       "5      6  San Francisco 49ers    545    444      14  0.550           1950   \n",
       "\n",
       "   Total Games  Conference  Stadium  \n",
       "0           894   NFC East        0  \n",
       "1          1357  NFC North        1  \n",
       "2          1339  NFC North        2  \n",
       "3           792   AFC East        3  \n",
       "4           326  AFC North        4  \n",
       "5          1003  NFC Weast        5  "
      ]
     },
     "execution_count": 33,
     "metadata": {},
     "output_type": "execute_result"
    }
   ],
   "source": [
    "nfl_frame"
   ]
  },
  {
   "cell_type": "code",
   "execution_count": 36,
   "metadata": {
    "collapsed": false
   },
   "outputs": [
    {
     "data": {
      "text/plain": [
       "1    Levis Stadium\n",
       "2    Eaden Gargens\n",
       "5              MCG\n",
       "dtype: object"
      ]
     },
     "execution_count": 36,
     "metadata": {},
     "output_type": "execute_result"
    }
   ],
   "source": [
    "stadiums = Series(['Levis Stadium','Eaden Gargens','MCG'],index = [1,2,5])\n",
    "stadiums"
   ]
  },
  {
   "cell_type": "code",
   "execution_count": 39,
   "metadata": {
    "collapsed": false
   },
   "outputs": [
    {
     "data": {
      "text/html": [
       "<div style=\"max-height:1000px;max-width:1500px;overflow:auto;\">\n",
       "<table border=\"1\" class=\"dataframe\">\n",
       "  <thead>\n",
       "    <tr style=\"text-align: right;\">\n",
       "      <th></th>\n",
       "      <th>Rank </th>\n",
       "      <th>Team </th>\n",
       "      <th>Won </th>\n",
       "      <th>Lost </th>\n",
       "      <th>Tied* </th>\n",
       "      <th>Pct. </th>\n",
       "      <th>First Season </th>\n",
       "      <th>Total Games </th>\n",
       "      <th>Conference</th>\n",
       "      <th>Stadium</th>\n",
       "    </tr>\n",
       "  </thead>\n",
       "  <tbody>\n",
       "    <tr>\n",
       "      <th>0</th>\n",
       "      <td> 1</td>\n",
       "      <td>      Dallas Cowboys </td>\n",
       "      <td> 511</td>\n",
       "      <td> 378</td>\n",
       "      <td>  6</td>\n",
       "      <td> 0.574</td>\n",
       "      <td> 1960</td>\n",
       "      <td>  894</td>\n",
       "      <td>  NFC East</td>\n",
       "      <td>           NaN</td>\n",
       "    </tr>\n",
       "    <tr>\n",
       "      <th>1</th>\n",
       "      <td> 2</td>\n",
       "      <td>       Chicago Bears </td>\n",
       "      <td> 752</td>\n",
       "      <td> 563</td>\n",
       "      <td> 42</td>\n",
       "      <td> 0.570</td>\n",
       "      <td> 1920</td>\n",
       "      <td> 1357</td>\n",
       "      <td> NFC North</td>\n",
       "      <td> Levis Stadium</td>\n",
       "    </tr>\n",
       "    <tr>\n",
       "      <th>2</th>\n",
       "      <td> 3</td>\n",
       "      <td>   Green Bay Packers </td>\n",
       "      <td> 741</td>\n",
       "      <td> 561</td>\n",
       "      <td> 37</td>\n",
       "      <td> 0.567</td>\n",
       "      <td> 1921</td>\n",
       "      <td> 1339</td>\n",
       "      <td> NFC North</td>\n",
       "      <td> Eaden Gargens</td>\n",
       "    </tr>\n",
       "    <tr>\n",
       "      <th>3</th>\n",
       "      <td> 4</td>\n",
       "      <td>      Miami Dolphins </td>\n",
       "      <td> 443</td>\n",
       "      <td> 345</td>\n",
       "      <td>  4</td>\n",
       "      <td> 0.562</td>\n",
       "      <td> 1966</td>\n",
       "      <td>  792</td>\n",
       "      <td>  AFC East</td>\n",
       "      <td>           NaN</td>\n",
       "    </tr>\n",
       "    <tr>\n",
       "      <th>4</th>\n",
       "      <td> 5</td>\n",
       "      <td>    Baltimore Ravens </td>\n",
       "      <td> 182</td>\n",
       "      <td> 143</td>\n",
       "      <td>  1</td>\n",
       "      <td> 0.560</td>\n",
       "      <td> 1996</td>\n",
       "      <td>  326</td>\n",
       "      <td> AFC North</td>\n",
       "      <td>           NaN</td>\n",
       "    </tr>\n",
       "    <tr>\n",
       "      <th>5</th>\n",
       "      <td> 6</td>\n",
       "      <td> San Francisco 49ers </td>\n",
       "      <td> 545</td>\n",
       "      <td> 444</td>\n",
       "      <td> 14</td>\n",
       "      <td> 0.550</td>\n",
       "      <td> 1950</td>\n",
       "      <td> 1003</td>\n",
       "      <td> NFC Weast</td>\n",
       "      <td>           MCG</td>\n",
       "    </tr>\n",
       "  </tbody>\n",
       "</table>\n",
       "</div>"
      ],
      "text/plain": [
       "   Rank                  Team   Won   Lost   Tied*   Pct.   First Season   \\\n",
       "0      1       Dallas Cowboys    511    378       6  0.574           1960   \n",
       "1      2        Chicago Bears    752    563      42  0.570           1920   \n",
       "2      3    Green Bay Packers    741    561      37  0.567           1921   \n",
       "3      4       Miami Dolphins    443    345       4  0.562           1966   \n",
       "4      5     Baltimore Ravens    182    143       1  0.560           1996   \n",
       "5      6  San Francisco 49ers    545    444      14  0.550           1950   \n",
       "\n",
       "   Total Games  Conference        Stadium  \n",
       "0           894   NFC East            NaN  \n",
       "1          1357  NFC North  Levis Stadium  \n",
       "2          1339  NFC North  Eaden Gargens  \n",
       "3           792   AFC East            NaN  \n",
       "4           326  AFC North            NaN  \n",
       "5          1003  NFC Weast            MCG  "
      ]
     },
     "execution_count": 39,
     "metadata": {},
     "output_type": "execute_result"
    }
   ],
   "source": [
    "nfl_frame['Stadium'] = stadiums\n",
    "nfl_frame"
   ]
  },
  {
   "cell_type": "code",
   "execution_count": 40,
   "metadata": {
    "collapsed": true
   },
   "outputs": [],
   "source": [
    "del nfl_frame['Stadium']"
   ]
  },
  {
   "cell_type": "code",
   "execution_count": 41,
   "metadata": {
    "collapsed": false
   },
   "outputs": [
    {
     "data": {
      "text/html": [
       "<div style=\"max-height:1000px;max-width:1500px;overflow:auto;\">\n",
       "<table border=\"1\" class=\"dataframe\">\n",
       "  <thead>\n",
       "    <tr style=\"text-align: right;\">\n",
       "      <th></th>\n",
       "      <th>Rank </th>\n",
       "      <th>Team </th>\n",
       "      <th>Won </th>\n",
       "      <th>Lost </th>\n",
       "      <th>Tied* </th>\n",
       "      <th>Pct. </th>\n",
       "      <th>First Season </th>\n",
       "      <th>Total Games </th>\n",
       "      <th>Conference</th>\n",
       "    </tr>\n",
       "  </thead>\n",
       "  <tbody>\n",
       "    <tr>\n",
       "      <th>0</th>\n",
       "      <td> 1</td>\n",
       "      <td>      Dallas Cowboys </td>\n",
       "      <td> 511</td>\n",
       "      <td> 378</td>\n",
       "      <td>  6</td>\n",
       "      <td> 0.574</td>\n",
       "      <td> 1960</td>\n",
       "      <td>  894</td>\n",
       "      <td>  NFC East</td>\n",
       "    </tr>\n",
       "    <tr>\n",
       "      <th>1</th>\n",
       "      <td> 2</td>\n",
       "      <td>       Chicago Bears </td>\n",
       "      <td> 752</td>\n",
       "      <td> 563</td>\n",
       "      <td> 42</td>\n",
       "      <td> 0.570</td>\n",
       "      <td> 1920</td>\n",
       "      <td> 1357</td>\n",
       "      <td> NFC North</td>\n",
       "    </tr>\n",
       "    <tr>\n",
       "      <th>2</th>\n",
       "      <td> 3</td>\n",
       "      <td>   Green Bay Packers </td>\n",
       "      <td> 741</td>\n",
       "      <td> 561</td>\n",
       "      <td> 37</td>\n",
       "      <td> 0.567</td>\n",
       "      <td> 1921</td>\n",
       "      <td> 1339</td>\n",
       "      <td> NFC North</td>\n",
       "    </tr>\n",
       "    <tr>\n",
       "      <th>3</th>\n",
       "      <td> 4</td>\n",
       "      <td>      Miami Dolphins </td>\n",
       "      <td> 443</td>\n",
       "      <td> 345</td>\n",
       "      <td>  4</td>\n",
       "      <td> 0.562</td>\n",
       "      <td> 1966</td>\n",
       "      <td>  792</td>\n",
       "      <td>  AFC East</td>\n",
       "    </tr>\n",
       "    <tr>\n",
       "      <th>4</th>\n",
       "      <td> 5</td>\n",
       "      <td>    Baltimore Ravens </td>\n",
       "      <td> 182</td>\n",
       "      <td> 143</td>\n",
       "      <td>  1</td>\n",
       "      <td> 0.560</td>\n",
       "      <td> 1996</td>\n",
       "      <td>  326</td>\n",
       "      <td> AFC North</td>\n",
       "    </tr>\n",
       "    <tr>\n",
       "      <th>5</th>\n",
       "      <td> 6</td>\n",
       "      <td> San Francisco 49ers </td>\n",
       "      <td> 545</td>\n",
       "      <td> 444</td>\n",
       "      <td> 14</td>\n",
       "      <td> 0.550</td>\n",
       "      <td> 1950</td>\n",
       "      <td> 1003</td>\n",
       "      <td> NFC Weast</td>\n",
       "    </tr>\n",
       "  </tbody>\n",
       "</table>\n",
       "</div>"
      ],
      "text/plain": [
       "   Rank                  Team   Won   Lost   Tied*   Pct.   First Season   \\\n",
       "0      1       Dallas Cowboys    511    378       6  0.574           1960   \n",
       "1      2        Chicago Bears    752    563      42  0.570           1920   \n",
       "2      3    Green Bay Packers    741    561      37  0.567           1921   \n",
       "3      4       Miami Dolphins    443    345       4  0.562           1966   \n",
       "4      5     Baltimore Ravens    182    143       1  0.560           1996   \n",
       "5      6  San Francisco 49ers    545    444      14  0.550           1950   \n",
       "\n",
       "   Total Games  Conference  \n",
       "0           894   NFC East  \n",
       "1          1357  NFC North  \n",
       "2          1339  NFC North  \n",
       "3           792   AFC East  \n",
       "4           326  AFC North  \n",
       "5          1003  NFC Weast  "
      ]
     },
     "execution_count": 41,
     "metadata": {},
     "output_type": "execute_result"
    }
   ],
   "source": [
    "nfl_frame"
   ]
  },
  {
   "cell_type": "code",
   "execution_count": 43,
   "metadata": {
    "collapsed": false
   },
   "outputs": [
    {
     "data": {
      "text/plain": [
       "{'City': ['Mumbai', 'Cochin', 'Hyderabd'],\n",
       " 'Population': [5000000, 2500000, 3000000]}"
      ]
     },
     "execution_count": 43,
     "metadata": {},
     "output_type": "execute_result"
    }
   ],
   "source": [
    "city_dict = {'City':['Mumbai','Cochin','Hyderabd'],'Population':[5000000,2500000,3000000]}\n",
    "city_dict"
   ]
  },
  {
   "cell_type": "code",
   "execution_count": 45,
   "metadata": {
    "collapsed": false
   },
   "outputs": [
    {
     "data": {
      "text/html": [
       "<div style=\"max-height:1000px;max-width:1500px;overflow:auto;\">\n",
       "<table border=\"1\" class=\"dataframe\">\n",
       "  <thead>\n",
       "    <tr style=\"text-align: right;\">\n",
       "      <th></th>\n",
       "      <th>City</th>\n",
       "      <th>Population</th>\n",
       "    </tr>\n",
       "  </thead>\n",
       "  <tbody>\n",
       "    <tr>\n",
       "      <th>0</th>\n",
       "      <td>   Mumbai</td>\n",
       "      <td> 5000000</td>\n",
       "    </tr>\n",
       "    <tr>\n",
       "      <th>1</th>\n",
       "      <td>   Cochin</td>\n",
       "      <td> 2500000</td>\n",
       "    </tr>\n",
       "    <tr>\n",
       "      <th>2</th>\n",
       "      <td> Hyderabd</td>\n",
       "      <td> 3000000</td>\n",
       "    </tr>\n",
       "  </tbody>\n",
       "</table>\n",
       "</div>"
      ],
      "text/plain": [
       "       City  Population\n",
       "0    Mumbai     5000000\n",
       "1    Cochin     2500000\n",
       "2  Hyderabd     3000000"
      ]
     },
     "execution_count": 45,
     "metadata": {},
     "output_type": "execute_result"
    }
   ],
   "source": [
    "city_frame = DataFrame(city_dict)\n",
    "city_frame"
   ]
  },
  {
   "cell_type": "code",
   "execution_count": 48,
   "metadata": {
    "collapsed": false
   },
   "outputs": [
    {
     "data": {
      "text/plain": [
       "True"
      ]
     },
     "execution_count": 48,
     "metadata": {},
     "output_type": "execute_result"
    }
   ],
   "source": [
    "#For full list of ways to create DataFrames from various sources go to teh documentation for pandas:\n",
    "website = 'http://pandas.pydata.org/pandas-docs/dev/generated/pandas.DataFrame.html'\n",
    "website = 'http://pandas.pydata.org/pandas-docs/stable/generated/pandas.DataFrame.html'\n",
    "webbrowser.open(website)"
   ]
  },
  {
   "cell_type": "code",
   "execution_count": null,
   "metadata": {
    "collapsed": true
   },
   "outputs": [],
   "source": []
  }
 ],
 "metadata": {
  "kernelspec": {
   "display_name": "Python 3",
   "language": "python",
   "name": "python3"
  },
  "language_info": {
   "codemirror_mode": {
    "name": "ipython",
    "version": 3
   },
   "file_extension": ".py",
   "mimetype": "text/x-python",
   "name": "python",
   "nbconvert_exporter": "python",
   "pygments_lexer": "ipython3",
   "version": "3.4.3"
  }
 },
 "nbformat": 4,
 "nbformat_minor": 0
}
