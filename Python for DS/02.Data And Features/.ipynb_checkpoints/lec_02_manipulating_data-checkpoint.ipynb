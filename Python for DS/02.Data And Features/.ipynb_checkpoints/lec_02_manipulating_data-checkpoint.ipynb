{
 "cells": [
  {
   "cell_type": "markdown",
   "metadata": {},
   "source": [
    "https://courses.edx.org/courses/course-v1:Microsoft+DAT210x+4T2016/courseware/12621a4064aa4d92874a9d8a953734c5/773fbbcfe42c47fc85a5da26001a32f3/"
   ]
  },
  {
   "cell_type": "code",
   "execution_count": 1,
   "metadata": {
    "collapsed": false
   },
   "outputs": [
    {
     "data": {
      "text/plain": [
       "'/home/varun/Projects/datascience/Python for DS/02.Data And Features'"
      ]
     },
     "execution_count": 1,
     "metadata": {},
     "output_type": "execute_result"
    }
   ],
   "source": [
    "pwd"
   ]
  },
  {
   "cell_type": "code",
   "execution_count": 2,
   "metadata": {
    "collapsed": true
   },
   "outputs": [],
   "source": [
    "import pandas as pd"
   ]
  },
  {
   "cell_type": "code",
   "execution_count": 4,
   "metadata": {
    "collapsed": false
   },
   "outputs": [],
   "source": [
    "df = pd.read_csv(\"Datasets/tutorial.csv\")"
   ]
  },
  {
   "cell_type": "code",
   "execution_count": 7,
   "metadata": {
    "collapsed": false
   },
   "outputs": [
    {
     "data": {
      "text/html": [
       "<div>\n",
       "<table border=\"1\" class=\"dataframe\">\n",
       "  <thead>\n",
       "    <tr style=\"text-align: right;\">\n",
       "      <th></th>\n",
       "      <th>col0</th>\n",
       "      <th>col1</th>\n",
       "      <th>col2</th>\n",
       "      <th>col3</th>\n",
       "    </tr>\n",
       "  </thead>\n",
       "  <tbody>\n",
       "    <tr>\n",
       "      <th>0</th>\n",
       "      <td>-0.722876</td>\n",
       "      <td>-1.330682</td>\n",
       "      <td>1.309208</td>\n",
       "      <td>0.232378</td>\n",
       "    </tr>\n",
       "    <tr>\n",
       "      <th>1</th>\n",
       "      <td>1.160396</td>\n",
       "      <td>-0.730879</td>\n",
       "      <td>0.677368</td>\n",
       "      <td>1.044722</td>\n",
       "    </tr>\n",
       "    <tr>\n",
       "      <th>2</th>\n",
       "      <td>-1.062870</td>\n",
       "      <td>-0.503704</td>\n",
       "      <td>-0.238536</td>\n",
       "      <td>-1.417937</td>\n",
       "    </tr>\n",
       "    <tr>\n",
       "      <th>3</th>\n",
       "      <td>0.437078</td>\n",
       "      <td>0.362640</td>\n",
       "      <td>-0.111228</td>\n",
       "      <td>-1.649853</td>\n",
       "    </tr>\n",
       "  </tbody>\n",
       "</table>\n",
       "</div>"
      ],
      "text/plain": [
       "       col0      col1      col2      col3\n",
       "0 -0.722876 -1.330682  1.309208  0.232378\n",
       "1  1.160396 -0.730879  0.677368  1.044722\n",
       "2 -1.062870 -0.503704 -0.238536 -1.417937\n",
       "3  0.437078  0.362640 -0.111228 -1.649853"
      ]
     },
     "execution_count": 7,
     "metadata": {},
     "output_type": "execute_result"
    }
   ],
   "source": [
    "df"
   ]
  },
  {
   "cell_type": "code",
   "execution_count": 8,
   "metadata": {
    "collapsed": false
   },
   "outputs": [
    {
     "data": {
      "text/plain": [
       "Index(['col0', 'col1', 'col2', 'col3'], dtype='object')"
      ]
     },
     "execution_count": 8,
     "metadata": {},
     "output_type": "execute_result"
    }
   ],
   "source": [
    "df.columns"
   ]
  },
  {
   "cell_type": "raw",
   "metadata": {},
   "source": [
    "Row and Column Indexing\n",
    "\n",
    "A dataframe is essentially one or more series which have been 'stitched' together into a new data type. Pandas exposes many equivalent methods for slicing out those underlying series. You can slice by location, the way you would normally index into a regular Python list. You can slice by label, the way you would normally index into a Python dictionary. And like NumPy arrays, you can also index by boolean masks:\n",
    "\n",
    ">>> df.col0\n",
    ">>> df['col0']\n",
    ">>> df[['col0']]\n",
    ">>> df.loc[:, 'col0']\n",
    ">>> df.loc[:, ['col0']]\n",
    ">>> df.iloc[:, 0]\n",
    ">>> df.iloc[:, [0]]\n",
    ">>> df.ix[:, 0]\n",
    "\n",
    "row0  -0.722876\n",
    "row1   1.160396\n",
    "row2  -1.062870\n",
    "\n",
    "row3   0.437078\n",
    "\n",
    "Name: col0, dtype: float64\n",
    "\n",
    "Assuming it is labeled col0, any of the above commands will return the first series, e.g. column, in the dataframe. The first three statements of selection by column name, are compact and easily discernible. These are the preferred syntaxes for use while you are learning, doing interactive work and prototyping. The difference between df['col0'] and df[['col0']] is that you can pass in additional comma separated column names with the latter to do multivariate selection.\n",
    "\n",
    "Once you're ready to move to a production environment, Pandas recommends you use either of the last five data access methods, which are more optimized. The .loc[] selector is used to select by string index label, .iloc[] to select by integer index position, and .ix[] is used whenever you want to use a hybrid approach of either.\n",
    "\n",
    "All code in this course will use either the df.col0 or df[['col0', ...]] data access syntaxes for maximum clarity.\n",
    "\n",
    "You also can use any of the .loc, .iloc or .ix methods to do selection by row, noting that the expected order is [row_indexer, column_indexer]:\n",
    "\n",
    ">>> df[0:1]\n",
    ">>> df.iloc[0:1, :]\n",
    "\n",
    "          col0      col1      col2      col3\n",
    "row0 -0.722876 -1.330682  1.309208  0.232378\n",
    "\n",
    "Don't be fooled! .loc and .iloc behave a bit differently in that iloc expects numeric values only. Another difference is that loc is inclusive in its range selection, so .loc[0:1. :] would return the 0th and 1st rows, whereas .iloc[0:1, :] would only return the 0th row!\n",
    "\n",
    "Boolean Indexing\n",
    "\n",
    "Your series can also be indexed with a boolean series—a series with the same dimensions as the one you are selecting from, but with every value either being set to True or False. You can create a new boolean series either by manually specifying the values, or by using a conditional:\n",
    "\n",
    ">>> df.col0 < 0\n",
    "\n",
    "0     True\n",
    "1    False\n",
    "2     True\n",
    "3    False\n",
    "Name: col0, dtype: bool\n",
    "\n",
    "To index with your boolean series, simply feed it back into your regular series with using the [] bracket-selection syntax. The result is a new series that once again has the same dimensions, however only values corresponding to True values in the boolean series are returned:\n",
    "\n",
    ">>> df[ df.col0 < 0 ]\n",
    "\n",
    "       col0      col1      col2      col3\n",
    "0 -0.722876 -1.330682  1.309208  0.232378\n",
    "2 -1.062870 -0.503704 -0.238536 -1.417937\n",
    "\n",
    " \n",
    "\n",
    "If you require even finer grain control of what gets selected, you can further combine multiple boolean indexing conditionals together using the bitwise logical operators \"|\" and \"&\":\n",
    "\n",
    ">>> df[ (df.col0<0) | (df.col1<0) ]\n",
    "\n",
    "       col0      col1      col2      col3\n",
    "0 -0.722876 -1.330682  1.309208  0.232378\n",
    "1  1.160396 -0.730879  0.677368  1.044722\n",
    "2 -1.062870 -0.503704 -0.238536 -1.417937\n",
    "\n",
    "This is a bit counterintuitive, as most people initially assume that Pandas would support the regular, Python boolean operators \"or\" and \"and\". The reason regular Python boolean operators cannot be used to combine Pandas boolean conditionals is because doing so causes an ambiguity. You can interpret the following incorrect statement in two ways: (df.col0<0) or (df.col1<0):\n",
    "\n",
    "    If evaluating the statement df.col0<0 or evaluating the statement df.col1<0 results in anything besides the None, 0, or False, then select all records.\n",
    "    For each row in the dataset, if either col0<0 or col1<0, then select that entire row.\n",
    "\n",
    "Option 2 is the desired functionality, but to avoid this ambiguity entirely, Pandas overloads bitwise operators on it's dataframe and series objects. Be sure to encapsulate each conditional in parenthesis to make this work.\n",
    "\n",
    "Writing to a Slice\n",
    "\n",
    "Something handy that you can do with a dataframe or series is write into a slice:\n",
    "\n",
    ">>> df[df < 0] = -100\n",
    ">>> df\n",
    "\n",
    "            col0       col1        col2        col3\n",
    "row0 -100.000000 -100.00000    1.309208    0.232378\n",
    "row1    1.160396 -100.00000    0.677368    1.044722\n",
    "row2 -100.000000 -100.00000 -100.000000 -100.000000\n",
    "row3    0.437078    0.36264 -100.000000 -100.000000\n",
    "\n",
    "Take precaution while doing this, as you may encounter issues with non-homogeneous dataframes. It is far safer, and generally makes more sense, to do this sort of operation on a per column basis rather than across your entire dataframe."
   ]
  },
  {
   "cell_type": "code",
   "execution_count": 9,
   "metadata": {
    "collapsed": false
   },
   "outputs": [
    {
     "data": {
      "text/plain": [
       "0   -0.722876\n",
       "1    1.160396\n",
       "2   -1.062870\n",
       "3    0.437078\n",
       "Name: col0, dtype: float64"
      ]
     },
     "execution_count": 9,
     "metadata": {},
     "output_type": "execute_result"
    }
   ],
   "source": [
    "df.col0"
   ]
  },
  {
   "cell_type": "code",
   "execution_count": 10,
   "metadata": {
    "collapsed": false
   },
   "outputs": [
    {
     "data": {
      "text/plain": [
       "0   -1.330682\n",
       "1   -0.730879\n",
       "2   -0.503704\n",
       "3    0.362640\n",
       "Name: col1, dtype: float64"
      ]
     },
     "execution_count": 10,
     "metadata": {},
     "output_type": "execute_result"
    }
   ],
   "source": [
    "df['col1']"
   ]
  },
  {
   "cell_type": "code",
   "execution_count": 12,
   "metadata": {
    "collapsed": false
   },
   "outputs": [
    {
     "data": {
      "text/html": [
       "<div>\n",
       "<table border=\"1\" class=\"dataframe\">\n",
       "  <thead>\n",
       "    <tr style=\"text-align: right;\">\n",
       "      <th></th>\n",
       "      <th>col1</th>\n",
       "    </tr>\n",
       "  </thead>\n",
       "  <tbody>\n",
       "    <tr>\n",
       "      <th>0</th>\n",
       "      <td>-1.330682</td>\n",
       "    </tr>\n",
       "    <tr>\n",
       "      <th>1</th>\n",
       "      <td>-0.730879</td>\n",
       "    </tr>\n",
       "    <tr>\n",
       "      <th>2</th>\n",
       "      <td>-0.503704</td>\n",
       "    </tr>\n",
       "    <tr>\n",
       "      <th>3</th>\n",
       "      <td>0.362640</td>\n",
       "    </tr>\n",
       "  </tbody>\n",
       "</table>\n",
       "</div>"
      ],
      "text/plain": [
       "       col1\n",
       "0 -1.330682\n",
       "1 -0.730879\n",
       "2 -0.503704\n",
       "3  0.362640"
      ]
     },
     "execution_count": 12,
     "metadata": {},
     "output_type": "execute_result"
    }
   ],
   "source": [
    "df[['col1']]"
   ]
  },
  {
   "cell_type": "code",
   "execution_count": 14,
   "metadata": {
    "collapsed": false
   },
   "outputs": [
    {
     "data": {
      "text/plain": [
       "0   -1.330682\n",
       "1   -0.730879\n",
       "2   -0.503704\n",
       "3    0.362640\n",
       "Name: col1, dtype: float64"
      ]
     },
     "execution_count": 14,
     "metadata": {},
     "output_type": "execute_result"
    }
   ],
   "source": [
    "df.loc[:,'col1']"
   ]
  },
  {
   "cell_type": "code",
   "execution_count": 16,
   "metadata": {
    "collapsed": false
   },
   "outputs": [
    {
     "data": {
      "text/html": [
       "<div>\n",
       "<table border=\"1\" class=\"dataframe\">\n",
       "  <thead>\n",
       "    <tr style=\"text-align: right;\">\n",
       "      <th></th>\n",
       "      <th>col0</th>\n",
       "      <th>col1</th>\n",
       "      <th>col2</th>\n",
       "      <th>col3</th>\n",
       "    </tr>\n",
       "  </thead>\n",
       "  <tbody>\n",
       "  </tbody>\n",
       "</table>\n",
       "</div>"
      ],
      "text/plain": [
       "Empty DataFrame\n",
       "Columns: [col0, col1, col2, col3]\n",
       "Index: []"
      ]
     },
     "execution_count": 16,
     "metadata": {},
     "output_type": "execute_result"
    }
   ],
   "source": [
    "df[1:2][2:3]"
   ]
  },
  {
   "cell_type": "code",
   "execution_count": null,
   "metadata": {
    "collapsed": true
   },
   "outputs": [],
   "source": []
  }
 ],
 "metadata": {
  "anaconda-cloud": {},
  "kernelspec": {
   "display_name": "Python [Root]",
   "language": "python",
   "name": "Python [Root]"
  },
  "language_info": {
   "codemirror_mode": {
    "name": "ipython",
    "version": 3
   },
   "file_extension": ".py",
   "mimetype": "text/x-python",
   "name": "python",
   "nbconvert_exporter": "python",
   "pygments_lexer": "ipython3",
   "version": "3.5.2"
  }
 },
 "nbformat": 4,
 "nbformat_minor": 0
}
