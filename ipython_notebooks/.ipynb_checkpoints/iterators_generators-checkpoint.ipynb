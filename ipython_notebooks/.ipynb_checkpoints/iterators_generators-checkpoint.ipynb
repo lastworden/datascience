{
 "cells": [
  {
   "cell_type": "markdown",
   "metadata": {},
   "source": [
    "## Iterators and Generators"
   ]
  },
  {
   "cell_type": "markdown",
   "metadata": {},
   "source": [
    "The built-in function iter takes an 'iterable' object and returns an iterator. Each time we call the 'next' method on the iterator gives us the next element. If there are no more elements, it raises a StopIteration."
   ]
  },
  {
   "cell_type": "code",
   "execution_count": 21,
   "metadata": {
    "collapsed": false
   },
   "outputs": [
    {
     "name": "stdout",
     "output_type": "stream",
     "text": [
      "A\n",
      "B\n",
      "C\n",
      "D\n"
     ]
    }
   ],
   "source": [
    "# Example\n",
    "str1 = 'ABCD'\n",
    "i = iter(str1)\n",
    "while True:\n",
    "    try:\n",
    "        print(next(i))\n",
    "    except:\n",
    "        break"
   ]
  },
  {
   "cell_type": "markdown",
   "metadata": {},
   "source": [
    "1. Our own iterator example. We can create iterator for our own class by overloading __iter__ and __next__methods"
   ]
  },
  {
   "cell_type": "code",
   "execution_count": 19,
   "metadata": {
    "collapsed": true
   },
   "outputs": [],
   "source": [
    "#__author__ = 'Varun'\n",
    "\n",
    "\n",
    "class vector:\n",
    "    data = []\n",
    "\n",
    "    def __init__(self,d):\n",
    "        self.data = d\n",
    "\n",
    "    def __repr__(self):\n",
    "        return ','.join([str(i) for i in  self]) # We are using our iterator implementation here\n",
    "\n",
    "    def __iter__(self):\n",
    "        self.index = -1\n",
    "        return self\n",
    "\n",
    "    def __next__(self):\n",
    "        self.index += 1\n",
    "        if self.index >= len(self.data):\n",
    "            raise StopIteration\n",
    "        return self.data[self.index]\n",
    "        "
   ]
  },
  {
   "cell_type": "code",
   "execution_count": 20,
   "metadata": {
    "collapsed": false
   },
   "outputs": [
    {
     "name": "stdout",
     "output_type": "stream",
     "text": [
      "value from : __repr__ via normal print :  1,2,3,4,5\n",
      "value from : __repr__ via normal repr :  1,2,3,4,5\n",
      "vector v is : 1,2,3,4,5\n",
      "vector element 1\n",
      "vector element 2\n",
      "vector element 3\n",
      "vector element 4\n",
      "vector element 5\n"
     ]
    }
   ],
   "source": [
    "def Main():\n",
    "\n",
    "    v1 = vector([1,2,3,4,5])\n",
    "    print('value from : __repr__ via normal print : ', v1)\n",
    "    print('value from : __repr__ via normal repr : ', repr(v1))\n",
    "    print ('vector v is : {0}'.format(v1))\n",
    "\n",
    "    for i in v1:\n",
    "        print('vector element %d'%i)\n",
    "\n",
    "if __name__ == '__main__':\n",
    "    Main()\n",
    "    \n"
   ]
  },
  {
   "cell_type": "code",
   "execution_count": null,
   "metadata": {
    "collapsed": true
   },
   "outputs": [],
   "source": []
  }
 ],
 "metadata": {
  "kernelspec": {
   "display_name": "Python 3",
   "language": "python",
   "name": "python3"
  },
  "language_info": {
   "codemirror_mode": {
    "name": "ipython",
    "version": 3
   },
   "file_extension": ".py",
   "mimetype": "text/x-python",
   "name": "python",
   "nbconvert_exporter": "python",
   "pygments_lexer": "ipython3",
   "version": "3.4.3"
  }
 },
 "nbformat": 4,
 "nbformat_minor": 0
}
