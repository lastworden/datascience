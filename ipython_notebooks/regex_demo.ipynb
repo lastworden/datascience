{
 "cells": [
  {
   "cell_type": "markdown",
   "metadata": {},
   "source": [
    "#### Demo for REGEX"
   ]
  },
  {
   "cell_type": "code",
   "execution_count": 15,
   "metadata": {
    "collapsed": true
   },
   "outputs": [],
   "source": [
    "import re"
   ]
  },
  {
   "cell_type": "markdown",
   "metadata": {},
   "source": [
    "\n",
    "\n",
    ". This element matches any character except newline \\n  \n",
    "\\D This matches any non-digit character; this is equivalent to the class [^0-9].  \n",
    "\\d This matches any decimal digit; this is equivalent to the class [0-9]  \n",
    "\\s This matches any whitespace character; this is equivalent to the class [⇢\\t\\n\\r\\f\\v]  \n",
    "\\S This matches any non-whitespace character; this is equivalent to the class [^ \\t\\n\\r\\f\\v]  \n",
    "\\w This matches any alphanumeric character; this is equivalent to the class [a-zA-Z0-9_]  \n",
    "\\W This matches any non-alphanumeric character; this is equivalent to the class [^a-zA-Z0-9_]  "
   ]
  },
  {
   "cell_type": "code",
   "execution_count": 27,
   "metadata": {
    "collapsed": false
   },
   "outputs": [
    {
     "name": "stdout",
     "output_type": "stream",
     "text": [
      "Enter the string :a=b\n",
      "'a=b'\n"
     ]
    }
   ],
   "source": [
    "\n",
    "s = input('Enter the string :')\n",
    "print (s.__repr__())"
   ]
  },
  {
   "cell_type": "code",
   "execution_count": 28,
   "metadata": {
    "collapsed": false
   },
   "outputs": [
    {
     "name": "stdout",
     "output_type": "stream",
     "text": [
      "a b\n"
     ]
    }
   ],
   "source": [
    "p = re.compile('(.*)=(.*)') #re.compile('(*)=(*)')\n",
    "m = p.search(s)\n",
    "print (m.group(1),m.group(2),)"
   ]
  },
  {
   "cell_type": "code",
   "execution_count": 29,
   "metadata": {
    "collapsed": false
   },
   "outputs": [
    {
     "name": "stdout",
     "output_type": "stream",
     "text": [
      "hello\n",
      "good\n",
      "hello\n",
      "good\n"
     ]
    }
   ],
   "source": [
    "p = re.compile(r'hello\\ngood')\n",
    "\n",
    "st = 'hello\\ngood'\n",
    "print(st)\n",
    "m = p.search(st)\n",
    "if st:\n",
    "    print(m.group(0))\n",
    "else:\n",
    "    print('not match')"
   ]
  },
  {
   "cell_type": "code",
   "execution_count": 38,
   "metadata": {
    "collapsed": false
   },
   "outputs": [
    {
     "name": "stdout",
     "output_type": "stream",
     "text": [
      "The search result for string 123 using the regex : wer is 234\n"
     ]
    }
   ],
   "source": [
    "print('The search result for string {str} using the regex : {reg} is {res}'.format(str = '123',reg = 'wer',res = '234'))"
   ]
  },
  {
   "cell_type": "code",
   "execution_count": 70,
   "metadata": {
    "collapsed": false
   },
   "outputs": [],
   "source": [
    "def outer_fun(func):\n",
    "    def inner_fun(regexp, str, result):\n",
    "        func('The search result for string {str} using the regex :\\\n",
    "{reg} is {res}'.format(str = repr(str),reg = regexp,res = result))\n",
    "    \n",
    "    return inner_fun"
   ]
  },
  {
   "cell_type": "code",
   "execution_count": 71,
   "metadata": {
    "collapsed": true
   },
   "outputs": [],
   "source": [
    "print_reg = outer_fun(print)"
   ]
  },
  {
   "cell_type": "code",
   "execution_count": 72,
   "metadata": {
    "collapsed": false
   },
   "outputs": [
    {
     "name": "stdout",
     "output_type": "stream",
     "text": [
      "The search result for string '\\n' using the regex :. is None\n"
     ]
    }
   ],
   "source": [
    "regexp = r'.'\n",
    "st = '\\n'\n",
    "p = re.compile(regexp)\n",
    "m = p.search(st)\n",
    "print_reg(regexp,st,m)"
   ]
  },
  {
   "cell_type": "code",
   "execution_count": 50,
   "metadata": {
    "collapsed": false
   },
   "outputs": [
    {
     "name": "stdout",
     "output_type": "stream",
     "text": [
      "'\\n'\n"
     ]
    }
   ],
   "source": [
    "print (repr('\\n'))"
   ]
  },
  {
   "cell_type": "code",
   "execution_count": 1,
   "metadata": {
    "collapsed": false
   },
   "outputs": [
    {
     "name": "stdout",
     "output_type": "stream",
     "text": [
      "Help on built-in function sum in module builtins:\n",
      "\n",
      "sum(iterable, start=0, /)\n",
      "    Return the sum of a 'start' value (default: 0) plus an iterable of numbers\n",
      "    \n",
      "    When the iterable is empty, return the start value.\n",
      "    This function is intended specifically for use with numeric values and may\n",
      "    reject non-numeric types.\n",
      "\n"
     ]
    }
   ],
   "source": [
    "help(sum)"
   ]
  },
  {
   "cell_type": "code",
   "execution_count": null,
   "metadata": {
    "collapsed": true
   },
   "outputs": [],
   "source": []
  }
 ],
 "metadata": {
  "kernelspec": {
   "display_name": "Python [Root]",
   "language": "python",
   "name": "Python [Root]"
  },
  "language_info": {
   "codemirror_mode": {
    "name": "ipython",
    "version": 3
   },
   "file_extension": ".py",
   "mimetype": "text/x-python",
   "name": "python",
   "nbconvert_exporter": "python",
   "pygments_lexer": "ipython3",
   "version": "3.5.2"
  }
 },
 "nbformat": 4,
 "nbformat_minor": 0
}
