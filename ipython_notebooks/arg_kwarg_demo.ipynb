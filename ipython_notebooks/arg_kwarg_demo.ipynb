{
 "cells": [
  {
   "cell_type": "markdown",
   "metadata": {},
   "source": [
    "### Demo of \\*args and \\*\\*kwargs\n"
   ]
  },
  {
   "cell_type": "markdown",
   "metadata": {},
   "source": [
    "all positional arguments should precede \\*arg and all other key words args should precede \\*\\*kwargs.\n",
    "The order is positional arguments, \\*args, key word arguments, \\*\\*kwargs"
   ]
  },
  {
   "cell_type": "code",
   "execution_count": 19,
   "metadata": {
    "collapsed": true
   },
   "outputs": [],
   "source": [
    "def dispArgs(arg1, arg2, *args, def_kwarg = 33,**kwargs):\n",
    "    print('arg1',arg1,'arg2',arg2, 'def_kwarg', def_kwarg)\n",
    "    for item in args:\n",
    "        print('*arg:',item)\n",
    "    for item in kwargs:\n",
    "        print('kwarg',item,kwargs[item])\n",
    "        \n",
    "        "
   ]
  },
  {
   "cell_type": "code",
   "execution_count": 38,
   "metadata": {
    "collapsed": false
   },
   "outputs": [],
   "source": [
    "def dispArgs2(arg1, arg2=888, *args, def_kwarg,**kwargs):\n",
    "    print('arg1',arg1,'arg2',arg2, 'def_kwarg', def_kwarg)\n",
    "    for item in args:\n",
    "        print('*arg:',item)\n",
    "    for item in kwargs:\n",
    "        print('kwarg',item,kwargs[item])\n",
    "        "
   ]
  },
  {
   "cell_type": "code",
   "execution_count": 30,
   "metadata": {
    "collapsed": false
   },
   "outputs": [
    {
     "name": "stdout",
     "output_type": "stream",
     "text": [
      "['arg1', 'arg2', 'arg3']\n",
      "{'kwarg3': 'kw3', 'kwarg2': 'kw2', 'kwarg1': 'kw1'}\n"
     ]
    }
   ],
   "source": [
    "args = ['arg1','arg2','arg3']\n",
    "kwargs = dict(kwarg1='kw1',kwarg2='kw2',kwarg3 = 'kw3')\n",
    "kwargs2 = dict(kwarg4='kw4',kwarg5='kw5',kwarg6 = 'kw6')\n",
    "print(args)\n",
    "print(kwargs)"
   ]
  },
  {
   "cell_type": "code",
   "execution_count": 43,
   "metadata": {
    "collapsed": false
   },
   "outputs": [
    {
     "name": "stdout",
     "output_type": "stream",
     "text": [
      "arg1 11 arg2 22 def_kwarg 333\n",
      "*arg: arg1\n",
      "*arg: arg2\n",
      "*arg: arg3\n",
      "kwarg kwarg3 kw3\n",
      "kwarg kwarg2 kw2\n",
      "kwarg kwarg1 kw1\n"
     ]
    }
   ],
   "source": [
    "dispArgs(11,22,def_kwarg = 333,*args,**kwargs)"
   ]
  },
  {
   "cell_type": "code",
   "execution_count": 31,
   "metadata": {
    "collapsed": false
   },
   "outputs": [
    {
     "name": "stdout",
     "output_type": "stream",
     "text": [
      "arg1 11 arg2 22 def_kwarg 33\n",
      "*arg: arg1\n",
      "*arg: arg2\n",
      "*arg: arg3\n",
      "kwarg kwarg3 kw3\n",
      "kwarg kwarg6 kw6\n",
      "kwarg kwarg4 kw4\n",
      "kwarg kwarg1 kw1\n",
      "kwarg kwarg2 kw2\n",
      "kwarg kwarg5 kw5\n"
     ]
    }
   ],
   "source": [
    "dispArgs(11,22,*args,**kwargs, **kwargs2)"
   ]
  },
  {
   "cell_type": "code",
   "execution_count": 29,
   "metadata": {
    "collapsed": false
   },
   "outputs": [
    {
     "name": "stdout",
     "output_type": "stream",
     "text": [
      "1 2 3\n",
      "[1, 2, 3]\n"
     ]
    }
   ],
   "source": [
    "t = [1,2,3]\n",
    "print(*t)\n",
    "print(t)"
   ]
  },
  {
   "cell_type": "code",
   "execution_count": 42,
   "metadata": {
    "collapsed": false
   },
   "outputs": [
    {
     "name": "stdout",
     "output_type": "stream",
     "text": [
      "arg1 11 arg2 33 def_kwarg 333\n",
      "*arg: arg1\n",
      "*arg: arg2\n",
      "*arg: arg3\n",
      "kwarg kwarg3 kw3\n",
      "kwarg kwarg2 kw2\n",
      "kwarg kwarg1 kw1\n"
     ]
    }
   ],
   "source": [
    "\n",
    "dispArgs2(11,33,*args,def_kwarg =333,**kwargs)"
   ]
  },
  {
   "cell_type": "code",
   "execution_count": 44,
   "metadata": {
    "collapsed": true
   },
   "outputs": [],
   "source": [
    "def dispArgs3(arg1, arg2=888, *args, **kwargs):\n",
    "    print('arg1',arg1,'arg2',arg2, 'def_kwarg', def_kwarg)\n",
    "    for item in args:\n",
    "        print('*arg:',item)\n",
    "    for item in kwargs:\n",
    "        print('kwarg',item,kwargs[item])"
   ]
  },
  {
   "cell_type": "code",
   "execution_count": 45,
   "metadata": {
    "collapsed": false
   },
   "outputs": [
    {
     "ename": "TypeError",
     "evalue": "dispArgs3() got multiple values for argument 'arg2'",
     "output_type": "error",
     "traceback": [
      "\u001b[0;31m---------------------------------------------------------------------------\u001b[0m",
      "\u001b[0;31mTypeError\u001b[0m                                 Traceback (most recent call last)",
      "\u001b[0;32m<ipython-input-45-5319bc871e30>\u001b[0m in \u001b[0;36m<module>\u001b[0;34m()\u001b[0m\n\u001b[0;32m----> 1\u001b[0;31m \u001b[0mdispArgs3\u001b[0m\u001b[0;34m(\u001b[0m\u001b[0;36m1\u001b[0m\u001b[0;34m,\u001b[0m\u001b[0marg2\u001b[0m\u001b[0;34m=\u001b[0m\u001b[0;36m2\u001b[0m\u001b[0;34m,\u001b[0m\u001b[0;34m*\u001b[0m\u001b[0margs\u001b[0m\u001b[0;34m,\u001b[0m\u001b[0;34m**\u001b[0m\u001b[0mkwargs\u001b[0m\u001b[0;34m)\u001b[0m\u001b[0;34m\u001b[0m\u001b[0m\n\u001b[0m",
      "\u001b[0;31mTypeError\u001b[0m: dispArgs3() got multiple values for argument 'arg2'"
     ]
    }
   ],
   "source": [
    "dispArgs3(1,arg2=2,*args,**kwargs)"
   ]
  },
  {
   "cell_type": "code",
   "execution_count": null,
   "metadata": {
    "collapsed": true
   },
   "outputs": [],
   "source": []
  }
 ],
 "metadata": {
  "kernelspec": {
   "display_name": "Python 3",
   "language": "python",
   "name": "python3"
  },
  "language_info": {
   "codemirror_mode": {
    "name": "ipython",
    "version": 3
   },
   "file_extension": ".py",
   "mimetype": "text/x-python",
   "name": "python",
   "nbconvert_exporter": "python",
   "pygments_lexer": "ipython3",
   "version": "3.5.0"
  }
 },
 "nbformat": 4,
 "nbformat_minor": 0
}
